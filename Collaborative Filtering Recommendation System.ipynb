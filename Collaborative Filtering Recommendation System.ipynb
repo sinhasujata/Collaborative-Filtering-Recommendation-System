{
 "cells": [
  {
   "cell_type": "code",
   "execution_count": 1,
   "id": "2ee714a7-afe9-4da4-a720-90d9662fc2fc",
   "metadata": {},
   "outputs": [],
   "source": [
    "import pandas as pd \n",
    "import numpy as np \n",
    "import sklearn\n",
    "from sklearn.metrics.pairwise import cosine_similarity\n",
    "import matplotlib\n",
    "from fastai.collab import *\n",
    "from fastai.tabular.all import *\n",
    "set_seed(42)"
   ]
  },
  {
   "cell_type": "code",
   "execution_count": 2,
   "id": "c1055de8-fbbe-42b8-b178-1ecc40ffeb1b",
   "metadata": {},
   "outputs": [
    {
     "data": {
      "text/html": [
       "<div>\n",
       "<style scoped>\n",
       "    .dataframe tbody tr th:only-of-type {\n",
       "        vertical-align: middle;\n",
       "    }\n",
       "\n",
       "    .dataframe tbody tr th {\n",
       "        vertical-align: top;\n",
       "    }\n",
       "\n",
       "    .dataframe thead th {\n",
       "        text-align: right;\n",
       "    }\n",
       "</style>\n",
       "<table border=\"1\" class=\"dataframe\">\n",
       "  <thead>\n",
       "    <tr style=\"text-align: right;\">\n",
       "      <th></th>\n",
       "      <th>User_ID</th>\n",
       "      <th>User_Names</th>\n",
       "      <th>Movie_ID</th>\n",
       "      <th>Rating</th>\n",
       "      <th>Timestamp</th>\n",
       "    </tr>\n",
       "  </thead>\n",
       "  <tbody>\n",
       "    <tr>\n",
       "      <th>0</th>\n",
       "      <td>0</td>\n",
       "      <td>Shawn Wilson</td>\n",
       "      <td>50</td>\n",
       "      <td>5</td>\n",
       "      <td>881250949</td>\n",
       "    </tr>\n",
       "    <tr>\n",
       "      <th>1</th>\n",
       "      <td>0</td>\n",
       "      <td>Shawn Wilson</td>\n",
       "      <td>172</td>\n",
       "      <td>5</td>\n",
       "      <td>881250949</td>\n",
       "    </tr>\n",
       "    <tr>\n",
       "      <th>2</th>\n",
       "      <td>0</td>\n",
       "      <td>Shawn Wilson</td>\n",
       "      <td>133</td>\n",
       "      <td>1</td>\n",
       "      <td>881250949</td>\n",
       "    </tr>\n",
       "    <tr>\n",
       "      <th>3</th>\n",
       "      <td>196</td>\n",
       "      <td>Bessie White</td>\n",
       "      <td>242</td>\n",
       "      <td>3</td>\n",
       "      <td>881250949</td>\n",
       "    </tr>\n",
       "    <tr>\n",
       "      <th>4</th>\n",
       "      <td>196</td>\n",
       "      <td>Bessie White</td>\n",
       "      <td>393</td>\n",
       "      <td>4</td>\n",
       "      <td>881251863</td>\n",
       "    </tr>\n",
       "  </tbody>\n",
       "</table>\n",
       "</div>"
      ],
      "text/plain": [
       "   User_ID    User_Names  Movie_ID  Rating  Timestamp\n",
       "0        0  Shawn Wilson        50       5  881250949\n",
       "1        0  Shawn Wilson       172       5  881250949\n",
       "2        0  Shawn Wilson       133       1  881250949\n",
       "3      196  Bessie White       242       3  881250949\n",
       "4      196  Bessie White       393       4  881251863"
      ]
     },
     "execution_count": 2,
     "metadata": {},
     "output_type": "execute_result"
    }
   ],
   "source": [
    "#Loading rating dataframe\n",
    "column_names = ['User_ID', 'User_Names','Movie_ID','Rating','Timestamp']\n",
    "movies_df = pd.read_csv(r\"Movie_data.csv\", sep = ',', names = column_names)\n",
    "movies_df.head()"
   ]
  },
  {
   "cell_type": "code",
   "execution_count": 3,
   "id": "baf44547-5482-4937-9234-97d474ebcdf7",
   "metadata": {},
   "outputs": [
    {
     "data": {
      "text/html": [
       "<div>\n",
       "<style scoped>\n",
       "    .dataframe tbody tr th:only-of-type {\n",
       "        vertical-align: middle;\n",
       "    }\n",
       "\n",
       "    .dataframe tbody tr th {\n",
       "        vertical-align: top;\n",
       "    }\n",
       "\n",
       "    .dataframe thead th {\n",
       "        text-align: right;\n",
       "    }\n",
       "</style>\n",
       "<table border=\"1\" class=\"dataframe\">\n",
       "  <thead>\n",
       "    <tr style=\"text-align: right;\">\n",
       "      <th></th>\n",
       "      <th>Movie_ID</th>\n",
       "      <th>Movie_Title</th>\n",
       "    </tr>\n",
       "  </thead>\n",
       "  <tbody>\n",
       "    <tr>\n",
       "      <th>0</th>\n",
       "      <td>1</td>\n",
       "      <td>Toy Story (1995)</td>\n",
       "    </tr>\n",
       "    <tr>\n",
       "      <th>1</th>\n",
       "      <td>2</td>\n",
       "      <td>GoldenEye (1995)</td>\n",
       "    </tr>\n",
       "    <tr>\n",
       "      <th>2</th>\n",
       "      <td>3</td>\n",
       "      <td>Four Rooms (1995)</td>\n",
       "    </tr>\n",
       "    <tr>\n",
       "      <th>3</th>\n",
       "      <td>4</td>\n",
       "      <td>Get Shorty (1995)</td>\n",
       "    </tr>\n",
       "    <tr>\n",
       "      <th>4</th>\n",
       "      <td>5</td>\n",
       "      <td>Copycat (1995)</td>\n",
       "    </tr>\n",
       "  </tbody>\n",
       "</table>\n",
       "</div>"
      ],
      "text/plain": [
       "   Movie_ID        Movie_Title\n",
       "0         1   Toy Story (1995)\n",
       "1         2   GoldenEye (1995)\n",
       "2         3  Four Rooms (1995)\n",
       "3         4  Get Shorty (1995)\n",
       "4         5     Copycat (1995)"
      ]
     },
     "execution_count": 3,
     "metadata": {},
     "output_type": "execute_result"
    }
   ],
   "source": [
    "#Loading the movie information\n",
    "movie_title_df = pd.read_csv(r\"Movie_Id_Titles.csv\")\n",
    "movie_title_df.rename(columns = {'item_id':'Movie_ID', 'title':'Movie_Title'}, inplace = True)\n",
    "movie_title_df.head()"
   ]
  },
  {
   "cell_type": "code",
   "execution_count": 4,
   "id": "3e1552ad-4f5c-4e9e-82a7-49330c163b85",
   "metadata": {},
   "outputs": [
    {
     "data": {
      "text/html": [
       "<div>\n",
       "<style scoped>\n",
       "    .dataframe tbody tr th:only-of-type {\n",
       "        vertical-align: middle;\n",
       "    }\n",
       "\n",
       "    .dataframe tbody tr th {\n",
       "        vertical-align: top;\n",
       "    }\n",
       "\n",
       "    .dataframe thead th {\n",
       "        text-align: right;\n",
       "    }\n",
       "</style>\n",
       "<table border=\"1\" class=\"dataframe\">\n",
       "  <thead>\n",
       "    <tr style=\"text-align: right;\">\n",
       "      <th></th>\n",
       "      <th>User_ID</th>\n",
       "      <th>User_Names</th>\n",
       "      <th>Movie_ID</th>\n",
       "      <th>Rating</th>\n",
       "      <th>Timestamp</th>\n",
       "      <th>Movie_Title</th>\n",
       "    </tr>\n",
       "  </thead>\n",
       "  <tbody>\n",
       "    <tr>\n",
       "      <th>0</th>\n",
       "      <td>0</td>\n",
       "      <td>Shawn Wilson</td>\n",
       "      <td>50</td>\n",
       "      <td>5</td>\n",
       "      <td>881250949</td>\n",
       "      <td>Star Wars (1977)</td>\n",
       "    </tr>\n",
       "    <tr>\n",
       "      <th>1</th>\n",
       "      <td>0</td>\n",
       "      <td>Shawn Wilson</td>\n",
       "      <td>172</td>\n",
       "      <td>5</td>\n",
       "      <td>881250949</td>\n",
       "      <td>Empire Strikes Back, The (1980)</td>\n",
       "    </tr>\n",
       "    <tr>\n",
       "      <th>2</th>\n",
       "      <td>0</td>\n",
       "      <td>Shawn Wilson</td>\n",
       "      <td>133</td>\n",
       "      <td>1</td>\n",
       "      <td>881250949</td>\n",
       "      <td>Gone with the Wind (1939)</td>\n",
       "    </tr>\n",
       "    <tr>\n",
       "      <th>3</th>\n",
       "      <td>196</td>\n",
       "      <td>Bessie White</td>\n",
       "      <td>242</td>\n",
       "      <td>3</td>\n",
       "      <td>881250949</td>\n",
       "      <td>Kolya (1996)</td>\n",
       "    </tr>\n",
       "    <tr>\n",
       "      <th>4</th>\n",
       "      <td>196</td>\n",
       "      <td>Bessie White</td>\n",
       "      <td>393</td>\n",
       "      <td>4</td>\n",
       "      <td>881251863</td>\n",
       "      <td>Mrs. Doubtfire (1993)</td>\n",
       "    </tr>\n",
       "  </tbody>\n",
       "</table>\n",
       "</div>"
      ],
      "text/plain": [
       "   User_ID    User_Names  Movie_ID  Rating  Timestamp  \\\n",
       "0        0  Shawn Wilson        50       5  881250949   \n",
       "1        0  Shawn Wilson       172       5  881250949   \n",
       "2        0  Shawn Wilson       133       1  881250949   \n",
       "3      196  Bessie White       242       3  881250949   \n",
       "4      196  Bessie White       393       4  881251863   \n",
       "\n",
       "                       Movie_Title  \n",
       "0                 Star Wars (1977)  \n",
       "1  Empire Strikes Back, The (1980)  \n",
       "2        Gone with the Wind (1939)  \n",
       "3                     Kolya (1996)  \n",
       "4            Mrs. Doubtfire (1993)  "
      ]
     },
     "execution_count": 4,
     "metadata": {},
     "output_type": "execute_result"
    }
   ],
   "source": [
    "#Merging the dataframes\n",
    "movies_df = pd.merge(movies_df,movie_title_df, on='Movie_ID')\n",
    "movies_df.head()"
   ]
  },
  {
   "cell_type": "markdown",
   "id": "f4bd60fc-ac74-4215-86ab-d5582aab28b9",
   "metadata": {},
   "source": [
    "# Exploring the dataset"
   ]
  },
  {
   "cell_type": "markdown",
   "id": "18bfa54b-3251-45c0-ab6a-7648935b16d3",
   "metadata": {},
   "source": [
    "In this project recommendation is made based on user similarities. The dataframe should have sufficient ratings from the users to to make good recommendations. "
   ]
  },
  {
   "cell_type": "code",
   "execution_count": 5,
   "id": "4c638f96-b770-4f25-8866-ae5abcf2e24b",
   "metadata": {},
   "outputs": [
    {
     "data": {
      "text/plain": [
       "(100003, 6)"
      ]
     },
     "execution_count": 5,
     "metadata": {},
     "output_type": "execute_result"
    }
   ],
   "source": [
    "movies_df.shape"
   ]
  },
  {
   "cell_type": "code",
   "execution_count": 6,
   "id": "fad6a40d-132f-41ec-8d5f-a98dbeea700e",
   "metadata": {},
   "outputs": [
    {
     "data": {
      "text/plain": [
       "<bound method NDFrame.describe of         User_ID     User_Names  Movie_ID  Rating  Timestamp  \\\n",
       "0             0   Shawn Wilson        50       5  881250949   \n",
       "1             0   Shawn Wilson       172       5  881250949   \n",
       "2             0   Shawn Wilson       133       1  881250949   \n",
       "3           196   Bessie White       242       3  881250949   \n",
       "4           196   Bessie White       393       4  881251863   \n",
       "...         ...            ...       ...     ...        ...   \n",
       "99998       941  Thomas Warren       919       5  875048887   \n",
       "99999       941  Thomas Warren       273       3  875049038   \n",
       "100000      941  Thomas Warren         1       5  875049144   \n",
       "100001      941  Thomas Warren       294       4  875048532   \n",
       "100002      941  Thomas Warren      1007       4  875049077   \n",
       "\n",
       "                              Movie_Title  \n",
       "0                        Star Wars (1977)  \n",
       "1         Empire Strikes Back, The (1980)  \n",
       "2               Gone with the Wind (1939)  \n",
       "3                            Kolya (1996)  \n",
       "4                   Mrs. Doubtfire (1993)  \n",
       "...                                   ...  \n",
       "99998   City of Lost Children, The (1995)  \n",
       "99999                         Heat (1995)  \n",
       "100000                   Toy Story (1995)  \n",
       "100001                   Liar Liar (1997)  \n",
       "100002         Waiting for Guffman (1996)  \n",
       "\n",
       "[100003 rows x 6 columns]>"
      ]
     },
     "execution_count": 6,
     "metadata": {},
     "output_type": "execute_result"
    }
   ],
   "source": [
    "movies_df.describe"
   ]
  },
  {
   "cell_type": "code",
   "execution_count": 7,
   "id": "a08caab0-239c-495e-ac46-997f79b272b0",
   "metadata": {},
   "outputs": [
    {
     "data": {
      "text/plain": [
       "User_ID\n",
       "0       3\n",
       "166    20\n",
       "418    20\n",
       "34     20\n",
       "441    20\n",
       "Name: Rating, dtype: int64"
      ]
     },
     "execution_count": 7,
     "metadata": {},
     "output_type": "execute_result"
    }
   ],
   "source": [
    "#Minimum ratings per user\n",
    "movies_df.groupby('User_ID')['Rating'].count().sort_values(ascending = True).head()"
   ]
  },
  {
   "cell_type": "code",
   "execution_count": 8,
   "id": "d6f7fb6e-4ab6-4b27-a4e8-03ea1ea69e83",
   "metadata": {},
   "outputs": [
    {
     "data": {
      "text/plain": [
       "(944, 1682)"
      ]
     },
     "execution_count": 8,
     "metadata": {},
     "output_type": "execute_result"
    }
   ],
   "source": [
    "#Getting no of unique users and movies\n",
    "n_users = movies_df.User_ID.unique().shape[0]\n",
    "n_movies = movies_df.Movie_ID.unique().shape[0]\n",
    "n_users, n_movies"
   ]
  },
  {
   "cell_type": "markdown",
   "id": "e8e77a67-4793-4153-ba31-025fc91b4b4a",
   "metadata": {},
   "source": [
    "For collaborative recommendations, we need to see the relationship of every user with every movie based on ratings. "
   ]
  },
  {
   "cell_type": "code",
   "execution_count": 9,
   "id": "42b15519-06be-4c69-a68d-a89bec04cd65",
   "metadata": {},
   "outputs": [
    {
     "data": {
      "text/plain": [
       "(1, 1682)"
      ]
     },
     "execution_count": 9,
     "metadata": {},
     "output_type": "execute_result"
    }
   ],
   "source": [
    "movies_df['Movie_ID'].min(), movies_df['Movie_ID'].max()"
   ]
  },
  {
   "cell_type": "code",
   "execution_count": 10,
   "id": "bb91c4dc-e705-485c-ae16-b98fd7189786",
   "metadata": {},
   "outputs": [
    {
     "data": {
      "text/plain": [
       "(0, 943)"
      ]
     },
     "execution_count": 10,
     "metadata": {},
     "output_type": "execute_result"
    }
   ],
   "source": [
    "movies_df['User_ID'].min(), movies_df['User_ID'].max()"
   ]
  },
  {
   "cell_type": "code",
   "execution_count": 11,
   "id": "d066556f-312d-4369-ad07-eb50c9e86f58",
   "metadata": {},
   "outputs": [
    {
     "data": {
      "text/plain": [
       "array([[0., 0., 0., ..., 0., 0., 0.],\n",
       "       [5., 3., 4., ..., 0., 0., 0.],\n",
       "       [4., 0., 0., ..., 0., 0., 0.],\n",
       "       ...,\n",
       "       [5., 0., 0., ..., 0., 0., 0.],\n",
       "       [0., 0., 0., ..., 0., 0., 0.],\n",
       "       [0., 5., 0., ..., 0., 0., 0.]])"
      ]
     },
     "execution_count": 11,
     "metadata": {},
     "output_type": "execute_result"
    }
   ],
   "source": [
    "#Creating interaction matrix\n",
    "\n",
    "#This would be a 2D array matrix to display user-movie_rating relationship\n",
    "#Rows represent users by IDs, columns represent movies by IDs\n",
    "ratings = np.zeros((n_users, n_movies))\n",
    "for row in movies_df.itertuples():\n",
    "    ratings[row[1], row[3]-1] = row[4]\n",
    "\n",
    "# View the matrix\n",
    "ratings"
   ]
  },
  {
   "cell_type": "code",
   "execution_count": 12,
   "id": "c1922b3b-672c-4432-babc-07d039d500dc",
   "metadata": {},
   "outputs": [
    {
     "data": {
      "text/plain": [
       "944"
      ]
     },
     "execution_count": 12,
     "metadata": {},
     "output_type": "execute_result"
    }
   ],
   "source": [
    "ratings.shape[0]"
   ]
  },
  {
   "cell_type": "code",
   "execution_count": 13,
   "id": "c584009f-16dc-42be-85ad-ec23d2dc63ae",
   "metadata": {},
   "outputs": [
    {
     "data": {
      "text/plain": [
       "6.298179628771237"
      ]
     },
     "execution_count": 13,
     "metadata": {},
     "output_type": "execute_result"
    }
   ],
   "source": [
    "# Calculate sparsity of the interaction matrix\n",
    "# Density of the interaction matrix directly impacts quality of recommendations\n",
    "# Sparsity is calculated by dividing the number of empty entries by the number of non-zero entries in the matrix.\n",
    "\n",
    "sparsity = float(len(ratings.nonzero()[0]))\n",
    "sparsity /= (ratings.shape[0] * ratings.shape[1])\n",
    "sparsity *= 100\n",
    "sparsity"
   ]
  },
  {
   "cell_type": "code",
   "execution_count": 14,
   "id": "774da5c1-e25c-423a-af1d-1ac3e722c776",
   "metadata": {},
   "outputs": [],
   "source": [
    "# we use cosine similarity to find similarity among users\n",
    "rating_cosine_similarity = cosine_similarity(ratings)\n"
   ]
  },
  {
   "cell_type": "markdown",
   "id": "1f0d393e-9c92-4932-8983-9db4ef013abc",
   "metadata": {},
   "source": [
    "# Creating the Latent Factors"
   ]
  },
  {
   "cell_type": "markdown",
   "id": "d8e8301c-902e-415b-8bff-89667671e9d3",
   "metadata": {},
   "source": [
    "We start with initializing some parameters which will be a set of latent factors for each user and each movie.\n",
    "Then we calculate our predictions, using dot product of each movie with each user.\n",
    "After the predictions, we calculate the loss with the actual ratings. We are using mean squared error since this will help with providing measure of accuracy.\n",
    "We can optimize our parameters using gradient descent to minimize the loss. \n",
    "\n",
    "At each step, the stochastic gradient descent optimizer will calculate the match between each movie and each user using the dot product, and will compare it to the actual rating that each user gave to each movie. It will then calculate the derivative of this value and will step the weights by multiplying this by the learning rate. Repeating this process over many iterations reduces the loss and improves the accuracy of the model, leading to better and better recommendations."
   ]
  },
  {
   "cell_type": "code",
   "execution_count": 15,
   "id": "14c85b56-d372-48f8-9d9b-02565b065078",
   "metadata": {},
   "outputs": [
    {
     "data": {
      "text/html": [
       "<div>\n",
       "<style scoped>\n",
       "    .dataframe tbody tr th:only-of-type {\n",
       "        vertical-align: middle;\n",
       "    }\n",
       "\n",
       "    .dataframe tbody tr th {\n",
       "        vertical-align: top;\n",
       "    }\n",
       "\n",
       "    .dataframe thead th {\n",
       "        text-align: right;\n",
       "    }\n",
       "</style>\n",
       "<table border=\"1\" class=\"dataframe\">\n",
       "  <thead>\n",
       "    <tr style=\"text-align: right;\">\n",
       "      <th></th>\n",
       "      <th>User_ID</th>\n",
       "      <th>User_Names</th>\n",
       "      <th>Movie_ID</th>\n",
       "      <th>Rating</th>\n",
       "      <th>Timestamp</th>\n",
       "      <th>Movie_Title</th>\n",
       "    </tr>\n",
       "  </thead>\n",
       "  <tbody>\n",
       "    <tr>\n",
       "      <th>0</th>\n",
       "      <td>0</td>\n",
       "      <td>Shawn Wilson</td>\n",
       "      <td>50</td>\n",
       "      <td>5</td>\n",
       "      <td>881250949</td>\n",
       "      <td>Star Wars (1977)</td>\n",
       "    </tr>\n",
       "    <tr>\n",
       "      <th>1</th>\n",
       "      <td>0</td>\n",
       "      <td>Shawn Wilson</td>\n",
       "      <td>172</td>\n",
       "      <td>5</td>\n",
       "      <td>881250949</td>\n",
       "      <td>Empire Strikes Back, The (1980)</td>\n",
       "    </tr>\n",
       "    <tr>\n",
       "      <th>2</th>\n",
       "      <td>0</td>\n",
       "      <td>Shawn Wilson</td>\n",
       "      <td>133</td>\n",
       "      <td>1</td>\n",
       "      <td>881250949</td>\n",
       "      <td>Gone with the Wind (1939)</td>\n",
       "    </tr>\n",
       "    <tr>\n",
       "      <th>3</th>\n",
       "      <td>196</td>\n",
       "      <td>Bessie White</td>\n",
       "      <td>242</td>\n",
       "      <td>3</td>\n",
       "      <td>881250949</td>\n",
       "      <td>Kolya (1996)</td>\n",
       "    </tr>\n",
       "    <tr>\n",
       "      <th>4</th>\n",
       "      <td>196</td>\n",
       "      <td>Bessie White</td>\n",
       "      <td>393</td>\n",
       "      <td>4</td>\n",
       "      <td>881251863</td>\n",
       "      <td>Mrs. Doubtfire (1993)</td>\n",
       "    </tr>\n",
       "  </tbody>\n",
       "</table>\n",
       "</div>"
      ],
      "text/plain": [
       "   User_ID    User_Names  Movie_ID  Rating  Timestamp  \\\n",
       "0        0  Shawn Wilson        50       5  881250949   \n",
       "1        0  Shawn Wilson       172       5  881250949   \n",
       "2        0  Shawn Wilson       133       1  881250949   \n",
       "3      196  Bessie White       242       3  881250949   \n",
       "4      196  Bessie White       393       4  881251863   \n",
       "\n",
       "                       Movie_Title  \n",
       "0                 Star Wars (1977)  \n",
       "1  Empire Strikes Back, The (1980)  \n",
       "2        Gone with the Wind (1939)  \n",
       "3                     Kolya (1996)  \n",
       "4            Mrs. Doubtfire (1993)  "
      ]
     },
     "execution_count": 15,
     "metadata": {},
     "output_type": "execute_result"
    }
   ],
   "source": [
    "movies_df.head()"
   ]
  },
  {
   "cell_type": "code",
   "execution_count": 16,
   "id": "633e37da-3685-4562-8d2d-75c502ed541c",
   "metadata": {},
   "outputs": [
    {
     "data": {
      "text/html": [
       "<table border=\"1\" class=\"dataframe\">\n",
       "  <thead>\n",
       "    <tr style=\"text-align: right;\">\n",
       "      <th></th>\n",
       "      <th>User_ID</th>\n",
       "      <th>Movie_Title</th>\n",
       "      <th>Rating</th>\n",
       "    </tr>\n",
       "  </thead>\n",
       "  <tbody>\n",
       "    <tr>\n",
       "      <th>0</th>\n",
       "      <td>192</td>\n",
       "      <td>Truth About Cats &amp; Dogs, The (1996)</td>\n",
       "      <td>2</td>\n",
       "    </tr>\n",
       "    <tr>\n",
       "      <th>1</th>\n",
       "      <td>256</td>\n",
       "      <td>Twister (1996)</td>\n",
       "      <td>5</td>\n",
       "    </tr>\n",
       "    <tr>\n",
       "      <th>2</th>\n",
       "      <td>141</td>\n",
       "      <td>Beautician and the Beast, The (1997)</td>\n",
       "      <td>3</td>\n",
       "    </tr>\n",
       "    <tr>\n",
       "      <th>3</th>\n",
       "      <td>303</td>\n",
       "      <td>Mask, The (1994)</td>\n",
       "      <td>3</td>\n",
       "    </tr>\n",
       "    <tr>\n",
       "      <th>4</th>\n",
       "      <td>10</td>\n",
       "      <td>Psycho (1960)</td>\n",
       "      <td>5</td>\n",
       "    </tr>\n",
       "    <tr>\n",
       "      <th>5</th>\n",
       "      <td>72</td>\n",
       "      <td>Long Kiss Goodnight, The (1996)</td>\n",
       "      <td>5</td>\n",
       "    </tr>\n",
       "    <tr>\n",
       "      <th>6</th>\n",
       "      <td>361</td>\n",
       "      <td>Usual Suspects, The (1995)</td>\n",
       "      <td>4</td>\n",
       "    </tr>\n",
       "    <tr>\n",
       "      <th>7</th>\n",
       "      <td>214</td>\n",
       "      <td>Down by Law (1986)</td>\n",
       "      <td>4</td>\n",
       "    </tr>\n",
       "    <tr>\n",
       "      <th>8</th>\n",
       "      <td>160</td>\n",
       "      <td>Three Colors: Red (1994)</td>\n",
       "      <td>4</td>\n",
       "    </tr>\n",
       "    <tr>\n",
       "      <th>9</th>\n",
       "      <td>883</td>\n",
       "      <td>Fugitive, The (1993)</td>\n",
       "      <td>4</td>\n",
       "    </tr>\n",
       "  </tbody>\n",
       "</table>"
      ],
      "text/plain": [
       "<IPython.core.display.HTML object>"
      ]
     },
     "metadata": {},
     "output_type": "display_data"
    }
   ],
   "source": [
    "# We create DataLoaders object using from movies_df. By default, the first column is taken as the user, second column for item (Movie_Title) and third column for rating. We set these columns for dataloaders accordingly.\n",
    "dls = CollabDataLoaders.from_df(movies_df, user_name='User_ID', item_name='Movie_Title', rating_name='Rating', bs=64)\n",
    "dls.show_batch()"
   ]
  },
  {
   "cell_type": "code",
   "execution_count": 17,
   "id": "269b0417-4054-42da-86f2-983c87ad0b20",
   "metadata": {},
   "outputs": [],
   "source": [
    "# Latent factors initialization\n",
    "n_users  = len(dls.classes['User_ID'])\n",
    "n_movies = len(dls.classes['Movie_Title'])\n",
    "n_factors = 5 \n",
    "\n",
    "user_factors = torch.randn(n_users, n_factors)\n",
    "movie_factors = torch.randn(n_movies, n_factors)"
   ]
  },
  {
   "cell_type": "markdown",
   "id": "96cf41ed-8358-487d-96c1-4186ef2b472d",
   "metadata": {},
   "source": [
    "To calculate the product of latent factors for each user and each movie, we need to look up the index of movie and and user for the user_factors and movie_factors table. We can do this by using replacing the indices with one-hot encoded vectors. But this will require more memory and time for storing and execution. We can instead use PyTorch library embedding.\n",
    "\n",
    "Embedding: Multiplying by a one-hot-encoded matrix, using the computational shortcut that it can be implemented by simply indexing directly. The thing that you multiply the one-hot-encoded matrix by (or, using the computational shortcut, index into directly) is called the embedding matrix."
   ]
  },
  {
   "cell_type": "markdown",
   "id": "70c18cad-7ba6-4f18-a8cf-651082b109f3",
   "metadata": {},
   "source": [
    "# Collaborative Filtering"
   ]
  },
  {
   "cell_type": "code",
   "execution_count": 18,
   "id": "7be2b304-6c8e-4597-8909-d85f5a1efb16",
   "metadata": {},
   "outputs": [],
   "source": [
    "class DotProduct(Module):\n",
    "    def __init__(self, n_users, n_movies, n_factors):\n",
    "        self.user_factors = Embedding(n_users, n_factors)\n",
    "        self.movie_factors = Embedding(n_movies, n_factors)\n",
    "        \n",
    "    def forward(self, x):\n",
    "        users = self.user_factors(x[:,0])\n",
    "        movies = self.movie_factors(x[:,1])\n",
    "        return (users * movies).sum(dim=1)"
   ]
  },
  {
   "cell_type": "markdown",
   "id": "3e7786ce-7c20-4e0b-b743-146a0c9fadc4",
   "metadata": {},
   "source": [
    "The input of the model is a tensor of shape batch_size x 2, where the first column (x[:, 0]) contains the user IDs and the second column (x[:, 1]) contains the movie IDs. As explained before, we use the embedding layers to represent our matrices of user and movie latent factors:"
   ]
  },
  {
   "cell_type": "code",
   "execution_count": 19,
   "id": "d8c5e36d-d251-4f99-a586-c2a51abbeac0",
   "metadata": {},
   "outputs": [
    {
     "data": {
      "text/plain": [
       "(torch.Size([64, 2]), torch.Size([64, 1]))"
      ]
     },
     "execution_count": 19,
     "metadata": {},
     "output_type": "execute_result"
    }
   ],
   "source": [
    "x,y = dls.one_batch()\n",
    "x.shape, y.shape"
   ]
  },
  {
   "cell_type": "markdown",
   "id": "343d2b32-c721-41b6-a783-e4fed4f0bb05",
   "metadata": {},
   "source": [
    "We create a Learner to optimize our model."
   ]
  },
  {
   "cell_type": "code",
   "execution_count": 20,
   "id": "9d00b011-fa1a-420b-9cb5-9ee6ea86ad09",
   "metadata": {},
   "outputs": [],
   "source": [
    "model = DotProduct(n_users, n_movies, 50)\n",
    "learn = Learner(dls, model, loss_func=MSELossFlat())"
   ]
  },
  {
   "cell_type": "code",
   "execution_count": 21,
   "id": "460970ee-da80-452d-9e7b-a82c5f882527",
   "metadata": {},
   "outputs": [
    {
     "data": {
      "text/html": [
       "\n",
       "<style>\n",
       "    /* Turns off some styling */\n",
       "    progress {\n",
       "        /* gets rid of default border in Firefox and Opera. */\n",
       "        border: none;\n",
       "        /* Needs to be in here for Safari polyfill so background images work as expected. */\n",
       "        background-size: auto;\n",
       "    }\n",
       "    progress:not([value]), progress:not([value])::-webkit-progress-bar {\n",
       "        background: repeating-linear-gradient(45deg, #7e7e7e, #7e7e7e 10px, #5c5c5c 10px, #5c5c5c 20px);\n",
       "    }\n",
       "    .progress-bar-interrupted, .progress-bar-interrupted::-webkit-progress-bar {\n",
       "        background: #F44336;\n",
       "    }\n",
       "</style>\n"
      ],
      "text/plain": [
       "<IPython.core.display.HTML object>"
      ]
     },
     "metadata": {},
     "output_type": "display_data"
    },
    {
     "data": {
      "text/html": [
       "<table border=\"1\" class=\"dataframe\">\n",
       "  <thead>\n",
       "    <tr style=\"text-align: left;\">\n",
       "      <th>epoch</th>\n",
       "      <th>train_loss</th>\n",
       "      <th>valid_loss</th>\n",
       "      <th>time</th>\n",
       "    </tr>\n",
       "  </thead>\n",
       "  <tbody>\n",
       "    <tr>\n",
       "      <td>0</td>\n",
       "      <td>1.311678</td>\n",
       "      <td>1.324998</td>\n",
       "      <td>00:07</td>\n",
       "    </tr>\n",
       "    <tr>\n",
       "      <td>1</td>\n",
       "      <td>0.996799</td>\n",
       "      <td>1.084787</td>\n",
       "      <td>00:07</td>\n",
       "    </tr>\n",
       "    <tr>\n",
       "      <td>2</td>\n",
       "      <td>0.840962</td>\n",
       "      <td>0.951330</td>\n",
       "      <td>00:08</td>\n",
       "    </tr>\n",
       "    <tr>\n",
       "      <td>3</td>\n",
       "      <td>0.742550</td>\n",
       "      <td>0.882943</td>\n",
       "      <td>00:08</td>\n",
       "    </tr>\n",
       "    <tr>\n",
       "      <td>4</td>\n",
       "      <td>0.686632</td>\n",
       "      <td>0.863403</td>\n",
       "      <td>00:08</td>\n",
       "    </tr>\n",
       "  </tbody>\n",
       "</table>"
      ],
      "text/plain": [
       "<IPython.core.display.HTML object>"
      ]
     },
     "metadata": {},
     "output_type": "display_data"
    }
   ],
   "source": [
    "# fitting thw model\n",
    "learn.fit_one_cycle(5, 5e-3)"
   ]
  },
  {
   "cell_type": "code",
   "execution_count": 22,
   "id": "9b515db1-135b-4235-8cb8-3e31e5bce122",
   "metadata": {},
   "outputs": [
    {
     "data": {
      "text/html": [
       "\n",
       "<style>\n",
       "    /* Turns off some styling */\n",
       "    progress {\n",
       "        /* gets rid of default border in Firefox and Opera. */\n",
       "        border: none;\n",
       "        /* Needs to be in here for Safari polyfill so background images work as expected. */\n",
       "        background-size: auto;\n",
       "    }\n",
       "    progress:not([value]), progress:not([value])::-webkit-progress-bar {\n",
       "        background: repeating-linear-gradient(45deg, #7e7e7e, #7e7e7e 10px, #5c5c5c 10px, #5c5c5c 20px);\n",
       "    }\n",
       "    .progress-bar-interrupted, .progress-bar-interrupted::-webkit-progress-bar {\n",
       "        background: #F44336;\n",
       "    }\n",
       "</style>\n"
      ],
      "text/plain": [
       "<IPython.core.display.HTML object>"
      ]
     },
     "metadata": {},
     "output_type": "display_data"
    },
    {
     "data": {
      "text/html": [],
      "text/plain": [
       "<IPython.core.display.HTML object>"
      ]
     },
     "metadata": {},
     "output_type": "display_data"
    },
    {
     "data": {
      "text/html": [
       "<table border=\"1\" class=\"dataframe\">\n",
       "  <thead>\n",
       "    <tr style=\"text-align: right;\">\n",
       "      <th></th>\n",
       "      <th>User_ID</th>\n",
       "      <th>Movie_Title</th>\n",
       "      <th>Rating</th>\n",
       "      <th>Rating_pred</th>\n",
       "    </tr>\n",
       "  </thead>\n",
       "  <tbody>\n",
       "    <tr>\n",
       "      <th>0</th>\n",
       "      <td>808</td>\n",
       "      <td>1489</td>\n",
       "      <td>4</td>\n",
       "      <td>3.778756</td>\n",
       "    </tr>\n",
       "    <tr>\n",
       "      <th>1</th>\n",
       "      <td>119</td>\n",
       "      <td>1480</td>\n",
       "      <td>5</td>\n",
       "      <td>5.581917</td>\n",
       "    </tr>\n",
       "    <tr>\n",
       "      <th>2</th>\n",
       "      <td>734</td>\n",
       "      <td>1241</td>\n",
       "      <td>4</td>\n",
       "      <td>3.590691</td>\n",
       "    </tr>\n",
       "    <tr>\n",
       "      <th>3</th>\n",
       "      <td>544</td>\n",
       "      <td>622</td>\n",
       "      <td>3</td>\n",
       "      <td>3.934627</td>\n",
       "    </tr>\n",
       "    <tr>\n",
       "      <th>4</th>\n",
       "      <td>304</td>\n",
       "      <td>1343</td>\n",
       "      <td>4</td>\n",
       "      <td>4.579803</td>\n",
       "    </tr>\n",
       "    <tr>\n",
       "      <th>5</th>\n",
       "      <td>406</td>\n",
       "      <td>1521</td>\n",
       "      <td>1</td>\n",
       "      <td>1.699957</td>\n",
       "    </tr>\n",
       "    <tr>\n",
       "      <th>6</th>\n",
       "      <td>270</td>\n",
       "      <td>42</td>\n",
       "      <td>3</td>\n",
       "      <td>3.355264</td>\n",
       "    </tr>\n",
       "    <tr>\n",
       "      <th>7</th>\n",
       "      <td>328</td>\n",
       "      <td>123</td>\n",
       "      <td>3</td>\n",
       "      <td>3.551941</td>\n",
       "    </tr>\n",
       "    <tr>\n",
       "      <th>8</th>\n",
       "      <td>776</td>\n",
       "      <td>1303</td>\n",
       "      <td>3</td>\n",
       "      <td>4.014628</td>\n",
       "    </tr>\n",
       "  </tbody>\n",
       "</table>"
      ],
      "text/plain": [
       "<IPython.core.display.HTML object>"
      ]
     },
     "metadata": {},
     "output_type": "display_data"
    }
   ],
   "source": [
    "learn.show_results()"
   ]
  },
  {
   "cell_type": "code",
   "execution_count": 23,
   "id": "6a521143-b0eb-4955-a5b3-463a3c83a28f",
   "metadata": {},
   "outputs": [
    {
     "data": {
      "text/html": [
       "\n",
       "<style>\n",
       "    /* Turns off some styling */\n",
       "    progress {\n",
       "        /* gets rid of default border in Firefox and Opera. */\n",
       "        border: none;\n",
       "        /* Needs to be in here for Safari polyfill so background images work as expected. */\n",
       "        background-size: auto;\n",
       "    }\n",
       "    progress:not([value]), progress:not([value])::-webkit-progress-bar {\n",
       "        background: repeating-linear-gradient(45deg, #7e7e7e, #7e7e7e 10px, #5c5c5c 10px, #5c5c5c 20px);\n",
       "    }\n",
       "    .progress-bar-interrupted, .progress-bar-interrupted::-webkit-progress-bar {\n",
       "        background: #F44336;\n",
       "    }\n",
       "</style>\n"
      ],
      "text/plain": [
       "<IPython.core.display.HTML object>"
      ]
     },
     "metadata": {},
     "output_type": "display_data"
    },
    {
     "data": {
      "text/html": [],
      "text/plain": [
       "<IPython.core.display.HTML object>"
      ]
     },
     "metadata": {},
     "output_type": "display_data"
    },
    {
     "name": "stdout",
     "output_type": "stream",
     "text": [
      "Max predicted rating: 6.139401435852051\n",
      "Min predicted rating: -0.035346321761608124\n"
     ]
    }
   ],
   "source": [
    "preds, targs = learn.get_preds()\n",
    "print(\"Max predicted rating:\", preds.max().item())\n",
    "print(\"Min predicted rating:\", preds.min().item())"
   ]
  },
  {
   "cell_type": "markdown",
   "id": "4497c912-e06c-466a-98c6-a96281a4200c",
   "metadata": {},
   "source": [
    "We can see that this model predicts results which are out of range [0,5]. To improve this model, we can force the predictions to be between 0 and 5 ny using sigmoid_range."
   ]
  },
  {
   "cell_type": "code",
   "execution_count": 24,
   "id": "3f44c66a-80f1-4ece-8894-8c52de02931c",
   "metadata": {},
   "outputs": [],
   "source": [
    "class DotProduct(Module):\n",
    "    def __init__(self, n_users, n_movies, n_factors, y_range=(0,5.5)):\n",
    "        self.user_factors = Embedding(n_users, n_factors)\n",
    "        self.movie_factors = Embedding(n_movies, n_factors)\n",
    "        self.y_range = y_range\n",
    "        \n",
    "    def forward(self, x):\n",
    "        users = self.user_factors(x[:,0])\n",
    "        movies = self.movie_factors(x[:,1])\n",
    "        return sigmoid_range((users * movies).sum(dim=1), *self.y_range)"
   ]
  },
  {
   "cell_type": "code",
   "execution_count": 25,
   "id": "9f854375-f68e-44ba-95e2-70d5af9a0fe1",
   "metadata": {},
   "outputs": [
    {
     "data": {
      "text/html": [
       "\n",
       "<style>\n",
       "    /* Turns off some styling */\n",
       "    progress {\n",
       "        /* gets rid of default border in Firefox and Opera. */\n",
       "        border: none;\n",
       "        /* Needs to be in here for Safari polyfill so background images work as expected. */\n",
       "        background-size: auto;\n",
       "    }\n",
       "    progress:not([value]), progress:not([value])::-webkit-progress-bar {\n",
       "        background: repeating-linear-gradient(45deg, #7e7e7e, #7e7e7e 10px, #5c5c5c 10px, #5c5c5c 20px);\n",
       "    }\n",
       "    .progress-bar-interrupted, .progress-bar-interrupted::-webkit-progress-bar {\n",
       "        background: #F44336;\n",
       "    }\n",
       "</style>\n"
      ],
      "text/plain": [
       "<IPython.core.display.HTML object>"
      ]
     },
     "metadata": {},
     "output_type": "display_data"
    },
    {
     "data": {
      "text/html": [
       "<table border=\"1\" class=\"dataframe\">\n",
       "  <thead>\n",
       "    <tr style=\"text-align: left;\">\n",
       "      <th>epoch</th>\n",
       "      <th>train_loss</th>\n",
       "      <th>valid_loss</th>\n",
       "      <th>time</th>\n",
       "    </tr>\n",
       "  </thead>\n",
       "  <tbody>\n",
       "    <tr>\n",
       "      <td>0</td>\n",
       "      <td>0.943583</td>\n",
       "      <td>0.977225</td>\n",
       "      <td>00:08</td>\n",
       "    </tr>\n",
       "    <tr>\n",
       "      <td>1</td>\n",
       "      <td>0.657356</td>\n",
       "      <td>0.927866</td>\n",
       "      <td>00:08</td>\n",
       "    </tr>\n",
       "    <tr>\n",
       "      <td>2</td>\n",
       "      <td>0.476540</td>\n",
       "      <td>0.938231</td>\n",
       "      <td>00:07</td>\n",
       "    </tr>\n",
       "    <tr>\n",
       "      <td>3</td>\n",
       "      <td>0.368334</td>\n",
       "      <td>0.939033</td>\n",
       "      <td>00:07</td>\n",
       "    </tr>\n",
       "    <tr>\n",
       "      <td>4</td>\n",
       "      <td>0.311106</td>\n",
       "      <td>0.938175</td>\n",
       "      <td>00:07</td>\n",
       "    </tr>\n",
       "  </tbody>\n",
       "</table>"
      ],
      "text/plain": [
       "<IPython.core.display.HTML object>"
      ]
     },
     "metadata": {},
     "output_type": "display_data"
    }
   ],
   "source": [
    "model = DotProduct(n_users, n_movies, 50)\n",
    "learn = Learner(dls, model, loss_func=MSELossFlat())\n",
    "learn.fit_one_cycle(5, 5e-3)"
   ]
  },
  {
   "cell_type": "code",
   "execution_count": 26,
   "id": "1716cfe4-f034-4907-bb08-a6391d776634",
   "metadata": {},
   "outputs": [
    {
     "data": {
      "text/html": [
       "\n",
       "<style>\n",
       "    /* Turns off some styling */\n",
       "    progress {\n",
       "        /* gets rid of default border in Firefox and Opera. */\n",
       "        border: none;\n",
       "        /* Needs to be in here for Safari polyfill so background images work as expected. */\n",
       "        background-size: auto;\n",
       "    }\n",
       "    progress:not([value]), progress:not([value])::-webkit-progress-bar {\n",
       "        background: repeating-linear-gradient(45deg, #7e7e7e, #7e7e7e 10px, #5c5c5c 10px, #5c5c5c 20px);\n",
       "    }\n",
       "    .progress-bar-interrupted, .progress-bar-interrupted::-webkit-progress-bar {\n",
       "        background: #F44336;\n",
       "    }\n",
       "</style>\n"
      ],
      "text/plain": [
       "<IPython.core.display.HTML object>"
      ]
     },
     "metadata": {},
     "output_type": "display_data"
    },
    {
     "data": {
      "text/html": [],
      "text/plain": [
       "<IPython.core.display.HTML object>"
      ]
     },
     "metadata": {},
     "output_type": "display_data"
    },
    {
     "name": "stdout",
     "output_type": "stream",
     "text": [
      "Max predicted rating: 5.3293867111206055\n",
      "Min predicted rating: 0.5822687745094299\n"
     ]
    }
   ],
   "source": [
    "preds, targs = learn.get_preds()\n",
    "print(\"Max predicted rating:\", preds.max().item())\n",
    "print(\"Min predicted rating:\", preds.min().item())"
   ]
  },
  {
   "cell_type": "markdown",
   "id": "01a040b3-bdfb-4475-b5fc-0c7e5d57c034",
   "metadata": {},
   "source": [
    "In previous predictions we only have weights for latent factors. This gives information about what kind of movie it is or what kind of kind of movies a user might like, e.g., sci-fy, action, etc. But there are some movies which are liked by most people and some are not. Likewise, there are some users who give max ratings for most of the movies, while some users usually give low ratings for most movies. To capture this information, we can use biases for each user and each movie."
   ]
  },
  {
   "cell_type": "code",
   "execution_count": 27,
   "id": "b726a29f-0a68-4887-897a-ab748bf505f4",
   "metadata": {},
   "outputs": [],
   "source": [
    "class DotProductBias(Module):\n",
    "    def __init__(self, n_users, n_movies, n_factors, y_range=(0,5.5)):\n",
    "        self.user_factors = Embedding(n_users, n_factors)\n",
    "        self.user_bias = Embedding(n_users, 1)\n",
    "        self.movie_factors = Embedding(n_movies, n_factors)\n",
    "        self.movie_bias = Embedding(n_movies, 1)\n",
    "        self.y_range = y_range\n",
    "        \n",
    "    def forward(self, x):\n",
    "        users = self.user_factors(x[:,0])\n",
    "        movies = self.movie_factors(x[:,1])\n",
    "        res = (users * movies).sum(dim=1, keepdim=True)\n",
    "        res += self.user_bias(x[:,0]) + self.movie_bias(x[:,1])\n",
    "        return sigmoid_range(res, *self.y_range)"
   ]
  },
  {
   "cell_type": "code",
   "execution_count": 28,
   "id": "76942253-602e-48fe-9f71-f4af68142d8a",
   "metadata": {},
   "outputs": [
    {
     "data": {
      "text/html": [
       "\n",
       "<style>\n",
       "    /* Turns off some styling */\n",
       "    progress {\n",
       "        /* gets rid of default border in Firefox and Opera. */\n",
       "        border: none;\n",
       "        /* Needs to be in here for Safari polyfill so background images work as expected. */\n",
       "        background-size: auto;\n",
       "    }\n",
       "    progress:not([value]), progress:not([value])::-webkit-progress-bar {\n",
       "        background: repeating-linear-gradient(45deg, #7e7e7e, #7e7e7e 10px, #5c5c5c 10px, #5c5c5c 20px);\n",
       "    }\n",
       "    .progress-bar-interrupted, .progress-bar-interrupted::-webkit-progress-bar {\n",
       "        background: #F44336;\n",
       "    }\n",
       "</style>\n"
      ],
      "text/plain": [
       "<IPython.core.display.HTML object>"
      ]
     },
     "metadata": {},
     "output_type": "display_data"
    },
    {
     "data": {
      "text/html": [
       "<table border=\"1\" class=\"dataframe\">\n",
       "  <thead>\n",
       "    <tr style=\"text-align: left;\">\n",
       "      <th>epoch</th>\n",
       "      <th>train_loss</th>\n",
       "      <th>valid_loss</th>\n",
       "      <th>time</th>\n",
       "    </tr>\n",
       "  </thead>\n",
       "  <tbody>\n",
       "    <tr>\n",
       "      <td>0</td>\n",
       "      <td>0.873874</td>\n",
       "      <td>0.945900</td>\n",
       "      <td>00:08</td>\n",
       "    </tr>\n",
       "    <tr>\n",
       "      <td>1</td>\n",
       "      <td>0.597730</td>\n",
       "      <td>0.913048</td>\n",
       "      <td>00:07</td>\n",
       "    </tr>\n",
       "    <tr>\n",
       "      <td>2</td>\n",
       "      <td>0.419210</td>\n",
       "      <td>0.932302</td>\n",
       "      <td>00:07</td>\n",
       "    </tr>\n",
       "    <tr>\n",
       "      <td>3</td>\n",
       "      <td>0.308759</td>\n",
       "      <td>0.935997</td>\n",
       "      <td>00:07</td>\n",
       "    </tr>\n",
       "    <tr>\n",
       "      <td>4</td>\n",
       "      <td>0.303491</td>\n",
       "      <td>0.936568</td>\n",
       "      <td>00:07</td>\n",
       "    </tr>\n",
       "  </tbody>\n",
       "</table>"
      ],
      "text/plain": [
       "<IPython.core.display.HTML object>"
      ]
     },
     "metadata": {},
     "output_type": "display_data"
    }
   ],
   "source": [
    "model = DotProductBias(n_users, n_movies, 50)\n",
    "learn = Learner(dls, model, loss_func=MSELossFlat())\n",
    "learn.fit_one_cycle(5, 5e-3)"
   ]
  },
  {
   "cell_type": "markdown",
   "id": "58253f52-4d9c-4f33-b15c-cbb5f2f09c5c",
   "metadata": {},
   "source": [
    "The model starts getting worse near the end of training. Validation loss started increasing. This is a case of overfitting. To overcome this we can use weight decay/ L2 regularization. \n",
    "\n",
    "L2 regularization, consists in adding to your loss function the sum of all the weights squared, it will add a contribution to them that will encourage the weights to be as small as possible."
   ]
  },
  {
   "cell_type": "code",
   "execution_count": 29,
   "id": "654bb4b5-c6dd-4ec7-bd52-9e5982d19d7e",
   "metadata": {},
   "outputs": [
    {
     "data": {
      "text/html": [
       "\n",
       "<style>\n",
       "    /* Turns off some styling */\n",
       "    progress {\n",
       "        /* gets rid of default border in Firefox and Opera. */\n",
       "        border: none;\n",
       "        /* Needs to be in here for Safari polyfill so background images work as expected. */\n",
       "        background-size: auto;\n",
       "    }\n",
       "    progress:not([value]), progress:not([value])::-webkit-progress-bar {\n",
       "        background: repeating-linear-gradient(45deg, #7e7e7e, #7e7e7e 10px, #5c5c5c 10px, #5c5c5c 20px);\n",
       "    }\n",
       "    .progress-bar-interrupted, .progress-bar-interrupted::-webkit-progress-bar {\n",
       "        background: #F44336;\n",
       "    }\n",
       "</style>\n"
      ],
      "text/plain": [
       "<IPython.core.display.HTML object>"
      ]
     },
     "metadata": {},
     "output_type": "display_data"
    },
    {
     "data": {
      "text/html": [
       "<table border=\"1\" class=\"dataframe\">\n",
       "  <thead>\n",
       "    <tr style=\"text-align: left;\">\n",
       "      <th>epoch</th>\n",
       "      <th>train_loss</th>\n",
       "      <th>valid_loss</th>\n",
       "      <th>time</th>\n",
       "    </tr>\n",
       "  </thead>\n",
       "  <tbody>\n",
       "    <tr>\n",
       "      <td>0</td>\n",
       "      <td>0.861376</td>\n",
       "      <td>0.935277</td>\n",
       "      <td>00:07</td>\n",
       "    </tr>\n",
       "    <tr>\n",
       "      <td>1</td>\n",
       "      <td>0.694173</td>\n",
       "      <td>0.877397</td>\n",
       "      <td>00:07</td>\n",
       "    </tr>\n",
       "    <tr>\n",
       "      <td>2</td>\n",
       "      <td>0.525595</td>\n",
       "      <td>0.859067</td>\n",
       "      <td>00:07</td>\n",
       "    </tr>\n",
       "    <tr>\n",
       "      <td>3</td>\n",
       "      <td>0.441798</td>\n",
       "      <td>0.840425</td>\n",
       "      <td>00:07</td>\n",
       "    </tr>\n",
       "    <tr>\n",
       "      <td>4</td>\n",
       "      <td>0.419633</td>\n",
       "      <td>0.837941</td>\n",
       "      <td>00:07</td>\n",
       "    </tr>\n",
       "  </tbody>\n",
       "</table>"
      ],
      "text/plain": [
       "<IPython.core.display.HTML object>"
      ]
     },
     "metadata": {},
     "output_type": "display_data"
    }
   ],
   "source": [
    "model = DotProductBias(n_users, n_movies, 50)\n",
    "learn = Learner(dls, model, loss_func=MSELossFlat())\n",
    "learn.fit_one_cycle(5, 5e-3, wd=0.1)"
   ]
  },
  {
   "cell_type": "markdown",
   "id": "aacc13b9-254d-4894-971d-0751d2bf3970",
   "metadata": {},
   "source": [
    "The loss has improved significantly."
   ]
  },
  {
   "cell_type": "code",
   "execution_count": 30,
   "id": "9578399c-8790-4aec-95cd-9029d47acd46",
   "metadata": {},
   "outputs": [],
   "source": [
    "# create DotProductBias without using the embedding library\n",
    "def create_params(size):\n",
    "    return nn.Parameter(torch.zeros(*size).normal_(0, 0.01))\n",
    "    \n",
    "class DotProductBias(Module):\n",
    "    def __init__(self, n_users, n_movies, n_factors, y_range=(0,5.5)):\n",
    "        self.user_factors = create_params([n_users, n_factors])\n",
    "        self.user_bias = create_params([n_users])\n",
    "        self.movie_factors = create_params([n_movies, n_factors])\n",
    "        self.movie_bias = create_params([n_movies])\n",
    "        self.y_range = y_range\n",
    "        \n",
    "    def forward(self, x):\n",
    "        users = self.user_factors[x[:,0]]\n",
    "        movies = self.movie_factors[x[:,1]]\n",
    "        res = (users*movies).sum(dim=1)\n",
    "        res += self.user_bias[x[:,0]] + self.movie_bias[x[:,1]]\n",
    "        return sigmoid_range(res, *self.y_range)"
   ]
  },
  {
   "cell_type": "code",
   "execution_count": 31,
   "id": "c1b12aef-8a38-4aa8-8b8a-306fcac0cd48",
   "metadata": {},
   "outputs": [
    {
     "data": {
      "text/html": [
       "\n",
       "<style>\n",
       "    /* Turns off some styling */\n",
       "    progress {\n",
       "        /* gets rid of default border in Firefox and Opera. */\n",
       "        border: none;\n",
       "        /* Needs to be in here for Safari polyfill so background images work as expected. */\n",
       "        background-size: auto;\n",
       "    }\n",
       "    progress:not([value]), progress:not([value])::-webkit-progress-bar {\n",
       "        background: repeating-linear-gradient(45deg, #7e7e7e, #7e7e7e 10px, #5c5c5c 10px, #5c5c5c 20px);\n",
       "    }\n",
       "    .progress-bar-interrupted, .progress-bar-interrupted::-webkit-progress-bar {\n",
       "        background: #F44336;\n",
       "    }\n",
       "</style>\n"
      ],
      "text/plain": [
       "<IPython.core.display.HTML object>"
      ]
     },
     "metadata": {},
     "output_type": "display_data"
    },
    {
     "data": {
      "text/html": [
       "<table border=\"1\" class=\"dataframe\">\n",
       "  <thead>\n",
       "    <tr style=\"text-align: left;\">\n",
       "      <th>epoch</th>\n",
       "      <th>train_loss</th>\n",
       "      <th>valid_loss</th>\n",
       "      <th>time</th>\n",
       "    </tr>\n",
       "  </thead>\n",
       "  <tbody>\n",
       "    <tr>\n",
       "      <td>0</td>\n",
       "      <td>0.894547</td>\n",
       "      <td>0.945733</td>\n",
       "      <td>00:07</td>\n",
       "    </tr>\n",
       "    <tr>\n",
       "      <td>1</td>\n",
       "      <td>0.666468</td>\n",
       "      <td>0.889990</td>\n",
       "      <td>00:07</td>\n",
       "    </tr>\n",
       "    <tr>\n",
       "      <td>2</td>\n",
       "      <td>0.525140</td>\n",
       "      <td>0.871094</td>\n",
       "      <td>00:07</td>\n",
       "    </tr>\n",
       "    <tr>\n",
       "      <td>3</td>\n",
       "      <td>0.447204</td>\n",
       "      <td>0.852402</td>\n",
       "      <td>00:07</td>\n",
       "    </tr>\n",
       "    <tr>\n",
       "      <td>4</td>\n",
       "      <td>0.455321</td>\n",
       "      <td>0.847734</td>\n",
       "      <td>00:08</td>\n",
       "    </tr>\n",
       "  </tbody>\n",
       "</table>"
      ],
      "text/plain": [
       "<IPython.core.display.HTML object>"
      ]
     },
     "metadata": {},
     "output_type": "display_data"
    }
   ],
   "source": [
    "model = DotProductBias(n_users, n_movies, 50)\n",
    "learn = Learner(dls, model, loss_func=MSELossFlat())\n",
    "learn.fit_one_cycle(5, 5e-3, wd=0.1)"
   ]
  },
  {
   "cell_type": "markdown",
   "id": "b0bd488a-564b-4b76-87ef-9646d02e2e6c",
   "metadata": {},
   "source": [
    "# Interpreting Embeddings and Biases"
   ]
  },
  {
   "cell_type": "markdown",
   "id": "c0159617-007a-4f5e-a3b1-f38f9a7bef5f",
   "metadata": {},
   "source": [
    "The model is able to provide movie recommendations for all users. Now we look at the paarmeters it has discovered. For interpreting the bias for movies, here are the movies with lowest values of bias vector:"
   ]
  },
  {
   "cell_type": "code",
   "execution_count": 32,
   "id": "b4b8f8c8-82ab-4051-8688-8ff04daf0c06",
   "metadata": {},
   "outputs": [
    {
     "data": {
      "text/plain": [
       "['Mortal Kombat: Annihilation (1997)',\n",
       " 'Children of the Corn: The Gathering (1996)',\n",
       " 'Striptease (1996)',\n",
       " 'Robocop 3 (1993)',\n",
       " 'Big Bully (1996)']"
      ]
     },
     "execution_count": 32,
     "metadata": {},
     "output_type": "execute_result"
    }
   ],
   "source": [
    "movie_bias = learn.model.movie_bias.squeeze()\n",
    "idxs = movie_bias.argsort()[:5]\n",
    "[dls.classes['Movie_Title'][i] for i in idxs]"
   ]
  },
  {
   "cell_type": "markdown",
   "id": "5df8b285-b5f6-4951-9993-d8014682c871",
   "metadata": {},
   "source": [
    "What this shows is that for certain movies, even when a user’s latent factors align well with the movie’s (factors that often capture aspects such as action level, release era, or other characteristics), the users still tend not to enjoy them. While we could have simply ranked movies by their average rating, analyzing the learned bias reveals something more insightful. It highlights not just that a movie is generally unpopular, but that people tend to dislike it even when, based on their preferences, it seems like the kind of movie they should have enjoyed. Likewise, here are the movies with highest bias:"
   ]
  },
  {
   "cell_type": "code",
   "execution_count": 33,
   "id": "72587dd7-b31c-474c-aaaf-ec1ad2e3656f",
   "metadata": {},
   "outputs": [
    {
     "data": {
      "text/plain": [
       "['Shawshank Redemption, The (1994)',\n",
       " 'Good Will Hunting (1997)',\n",
       " 'Titanic (1997)',\n",
       " 'L.A. Confidential (1997)',\n",
       " \"Schindler's List (1993)\"]"
      ]
     },
     "execution_count": 33,
     "metadata": {},
     "output_type": "execute_result"
    }
   ],
   "source": [
    "idxs = movie_bias.argsort(descending=True)[:5]\n",
    "[dls.classes['Movie_Title'][i] for i in idxs]"
   ]
  },
  {
   "cell_type": "markdown",
   "id": "b33053fd-10ea-46d9-a6ef-4cf1ec374657",
   "metadata": {},
   "source": [
    "In similar way, we can get users with lowest and highest values of bias vector."
   ]
  },
  {
   "cell_type": "code",
   "execution_count": 34,
   "id": "3a907ac0-0a77-4296-b12f-3c48943ab57a",
   "metadata": {},
   "outputs": [
    {
     "data": {
      "text/plain": [
       "[181, 405, 774, 445, 933]"
      ]
     },
     "execution_count": 34,
     "metadata": {},
     "output_type": "execute_result"
    }
   ],
   "source": [
    "user_bias = learn.model.user_bias.squeeze()\n",
    "idxs = user_bias.argsort()[:5]\n",
    "[dls.classes['User_ID'][i] for i in idxs]"
   ]
  },
  {
   "cell_type": "code",
   "execution_count": 35,
   "id": "b2d9c166-e596-401d-8cd7-91199807691b",
   "metadata": {},
   "outputs": [
    {
     "data": {
      "text/plain": [
       "[907, 507, 372, 472, 295]"
      ]
     },
     "execution_count": 35,
     "metadata": {},
     "output_type": "execute_result"
    }
   ],
   "source": [
    "idxs = user_bias.argsort(descending=True)[:5]\n",
    "[dls.classes['User_ID'][i] for i in idxs]"
   ]
  },
  {
   "cell_type": "markdown",
   "id": "aa78879f-96ef-4cf5-9c35-82a5037124ac",
   "metadata": {},
   "source": [
    "Interpreting the embedding matrices directly is challenging because they contain too many factors to easily make sense of. However, we can apply a technique called Principal Component Analysis (PCA) to uncover the most important underlying directions in the embeddings. PCA helps reduce the complexity of the data while highlighting the dominant patterns that drive user and movie preferences."
   ]
  },
  {
   "cell_type": "code",
   "execution_count": 36,
   "id": "7940651d-e759-4494-9d12-35a5a18500f8",
   "metadata": {},
   "outputs": [
    {
     "data": {
      "image/png": "[encoded data removed]",
      "text/plain": [
       "<Figure size 1500x1500 with 1 Axes>"
      ]
     },
     "metadata": {},
     "output_type": "display_data"
    }
   ],
   "source": [
    "g = movies_df.groupby('Movie_Title')['Rating'].count()\n",
    "top_movies = g.sort_values(ascending=False).index.values[:1000]\n",
    "top_idxs = tensor([learn.dls.classes['Movie_Title'].o2i[m] for m in top_movies])\n",
    "movie_w = learn.model.movie_factors[top_idxs].cpu().detach()\n",
    "movie_pca = movie_w.pca(3)\n",
    "fac0,fac1,fac2 = movie_pca.t()\n",
    "idxs = list(range(50))\n",
    "X = fac0[idxs]\n",
    "Y = fac2[idxs]\n",
    "plt.figure(figsize=(15,15))\n",
    "plt.scatter(X, Y)\n",
    "for i, x, y in zip(top_movies[idxs], X, Y):\n",
    "    plt.text(x,y,i, color=np.random.rand(3)*0.7, fontsize=11)\n",
    "plt.show()"
   ]
  },
  {
   "cell_type": "markdown",
   "id": "21147ca6-8ceb-4034-b719-c5d349cffbca",
   "metadata": {},
   "source": [
    "## Using fastai.collab"
   ]
  },
  {
   "cell_type": "code",
   "execution_count": 37,
   "id": "5bace932-73da-493d-9f03-5a8bbcdc8625",
   "metadata": {},
   "outputs": [],
   "source": [
    "learn = collab_learner(dls, n_factors=50, y_range=(0, 5.5))"
   ]
  },
  {
   "cell_type": "code",
   "execution_count": 38,
   "id": "f91ee691-d1a0-46bc-ab95-b356597c3280",
   "metadata": {},
   "outputs": [
    {
     "data": {
      "text/html": [
       "\n",
       "<style>\n",
       "    /* Turns off some styling */\n",
       "    progress {\n",
       "        /* gets rid of default border in Firefox and Opera. */\n",
       "        border: none;\n",
       "        /* Needs to be in here for Safari polyfill so background images work as expected. */\n",
       "        background-size: auto;\n",
       "    }\n",
       "    progress:not([value]), progress:not([value])::-webkit-progress-bar {\n",
       "        background: repeating-linear-gradient(45deg, #7e7e7e, #7e7e7e 10px, #5c5c5c 10px, #5c5c5c 20px);\n",
       "    }\n",
       "    .progress-bar-interrupted, .progress-bar-interrupted::-webkit-progress-bar {\n",
       "        background: #F44336;\n",
       "    }\n",
       "</style>\n"
      ],
      "text/plain": [
       "<IPython.core.display.HTML object>"
      ]
     },
     "metadata": {},
     "output_type": "display_data"
    },
    {
     "data": {
      "text/html": [
       "<table border=\"1\" class=\"dataframe\">\n",
       "  <thead>\n",
       "    <tr style=\"text-align: left;\">\n",
       "      <th>epoch</th>\n",
       "      <th>train_loss</th>\n",
       "      <th>valid_loss</th>\n",
       "      <th>time</th>\n",
       "    </tr>\n",
       "  </thead>\n",
       "  <tbody>\n",
       "    <tr>\n",
       "      <td>0</td>\n",
       "      <td>0.892870</td>\n",
       "      <td>0.944062</td>\n",
       "      <td>00:07</td>\n",
       "    </tr>\n",
       "    <tr>\n",
       "      <td>1</td>\n",
       "      <td>0.673142</td>\n",
       "      <td>0.884706</td>\n",
       "      <td>00:07</td>\n",
       "    </tr>\n",
       "    <tr>\n",
       "      <td>2</td>\n",
       "      <td>0.527069</td>\n",
       "      <td>0.865653</td>\n",
       "      <td>00:07</td>\n",
       "    </tr>\n",
       "    <tr>\n",
       "      <td>3</td>\n",
       "      <td>0.473367</td>\n",
       "      <td>0.845488</td>\n",
       "      <td>00:07</td>\n",
       "    </tr>\n",
       "    <tr>\n",
       "      <td>4</td>\n",
       "      <td>0.430162</td>\n",
       "      <td>0.841136</td>\n",
       "      <td>00:07</td>\n",
       "    </tr>\n",
       "  </tbody>\n",
       "</table>"
      ],
      "text/plain": [
       "<IPython.core.display.HTML object>"
      ]
     },
     "metadata": {},
     "output_type": "display_data"
    }
   ],
   "source": [
    "learn.fit_one_cycle(5, 5e-3, wd=0.1)"
   ]
  },
  {
   "cell_type": "code",
   "execution_count": 39,
   "id": "b2cdaeeb-a71f-411f-9e59-ab0fb98a6fdc",
   "metadata": {},
   "outputs": [
    {
     "data": {
      "text/plain": [
       "EmbeddingDotBias(\n",
       "  (u_weight): Embedding(945, 50)\n",
       "  (i_weight): Embedding(1665, 50)\n",
       "  (u_bias): Embedding(945, 1)\n",
       "  (i_bias): Embedding(1665, 1)\n",
       ")"
      ]
     },
     "execution_count": 39,
     "metadata": {},
     "output_type": "execute_result"
    }
   ],
   "source": [
    "learn.model"
   ]
  },
  {
   "cell_type": "markdown",
   "id": "32af5929-d520-435a-a471-d16714371fa4",
   "metadata": {},
   "source": [
    "## Embedding Distance"
   ]
  },
  {
   "cell_type": "markdown",
   "id": "c8baca05-887f-43f1-967a-38d4ef7cbd64",
   "metadata": {},
   "source": [
    "## Measuring Movie Similarity with Embeddings  \n",
    "\n",
    "In two dimensions, we measure the distance between two points using the Pythagorean theorem:  \n",
    "\n",
    "$$\n",
    "\\sqrt{x^2 + y^2}\n",
    "$$\n",
    "\n",
    "where \\(x\\) and \\(y\\) are the differences along each axis. The same principle extends naturally to higher dimensions—such as a 50-dimensional embedding—where we sum the squared differences across all coordinates.  \n",
    "\n",
    "In the context of **movie embeddings**, if two movies are very similar, their vectors will also be close in this high-dimensional space. This makes sense: users who enjoy one of these movies are very likely to enjoy the other as well.  \n",
    "\n",
    "More generally, movie similarity can be defined by the overlap in the audiences who like them. The embedding distance provides a concrete way to measure this similarity.  \n",
    "\n",
    "Using this idea, we can, for example, find the movie most similar to *Titanic (1997)* by identifying which embedding vector lies closest to it in the learned space.  \n"
   ]
  },
  {
   "cell_type": "code",
   "execution_count": 40,
   "id": "3a7da255-08c7-46d2-bf00-514d0097394b",
   "metadata": {},
   "outputs": [
    {
     "data": {
      "text/plain": [
       "'Dark City (1998)'"
      ]
     },
     "execution_count": 40,
     "metadata": {},
     "output_type": "execute_result"
    }
   ],
   "source": [
    "movie_factors = learn.model.i_weight.weight\n",
    "idx = dls.classes['Movie_Title'].o2i['Titanic (1997)']\n",
    "distances = nn.CosineSimilarity(dim=1)(movie_factors, movie_factors[idx][None])\n",
    "idx = distances.argsort(descending=True)[1]\n",
    "dls.classes['Movie_Title'][idx]"
   ]
  }
 ],
 "metadata": {
  "kernelspec": {
   "display_name": "Python 3 (ipykernel)",
   "language": "python",
   "name": "python3"
  },
  "language_info": {
   "codemirror_mode": {
    "name": "ipython",
    "version": 3
   },
   "file_extension": ".py",
   "mimetype": "text/x-python",
   "name": "python",
   "nbconvert_exporter": "python",
   "pygments_lexer": "ipython3",
   "version": "3.12.3"
  }
 },
 "nbformat": 4,
 "nbformat_minor": 5
}
